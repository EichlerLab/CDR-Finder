{
 "cells": [
  {
   "cell_type": "code",
   "execution_count": 1,
   "metadata": {},
   "outputs": [],
   "source": [
    "import polars as pl\n",
    "import matplotlib.pyplot as plt\n",
    "from scipy import signal\n",
    "plt.rcParams['figure.figsize'] = [16, 5]\n"
   ]
  },
  {
   "cell_type": "code",
   "execution_count": 16,
   "metadata": {},
   "outputs": [],
   "source": [
    "df = pl.read_csv(\n",
    "    \"../../test/cdr/input/HG00731_intersect_nowindow.bed\",\n",
    "    separator=\"\\t\",\n",
    "    has_header=False,\n",
    "    new_columns=[\n",
    "        \"chr\",\n",
    "        \"st\",\n",
    "        \"end\",\n",
    "        \"mod\",\n",
    "        \"score\",\n",
    "        \"strand\",\n",
    "        \"7\",\n",
    "        \"8\",\n",
    "        \"9\",\n",
    "        \"cov\",\n",
    "        \"perc_mod\",\n",
    "        \"n_canon\",\n",
    "        \"n_mod\",\n",
    "        \"n_filt\",\n",
    "        \"n_nocall\",\n",
    "        \"n_altmod\"\n",
    "    ]\n",
    ").drop(\"7\", \"8\", \"9\").filter(pl.col(\"cov\") != 0)"
   ]
  },
  {
   "cell_type": "code",
   "execution_count": 17,
   "metadata": {},
   "outputs": [
    {
     "data": {
      "text/html": [
       "<div><style>\n",
       ".dataframe > thead > tr,\n",
       ".dataframe > tbody > tr {\n",
       "  text-align: right;\n",
       "  white-space: pre-wrap;\n",
       "}\n",
       "</style>\n",
       "<small>shape: (1_261_001, 13)</small><table border=\"1\" class=\"dataframe\"><thead><tr><th>chr</th><th>st</th><th>end</th><th>mod</th><th>score</th><th>strand</th><th>cov</th><th>perc_mod</th><th>n_canon</th><th>n_mod</th><th>n_filt</th><th>n_nocall</th><th>n_altmod</th></tr><tr><td>str</td><td>i64</td><td>i64</td><td>str</td><td>i64</td><td>str</td><td>i64</td><td>str</td><td>i64</td><td>i64</td><td>i64</td><td>i64</td><td>i64</td></tr></thead><tbody><tr><td>&quot;haplotype1-000…</td><td>130641453</td><td>130641454</td><td>&quot;5mC&quot;</td><td>941</td><td>&quot;+&quot;</td><td>17</td><td>&quot;100.00&quot;</td><td>0</td><td>16</td><td>1</td><td>0</td><td>0</td></tr><tr><td>&quot;haplotype1-000…</td><td>130641764</td><td>130641765</td><td>&quot;5mC&quot;</td><td>470</td><td>&quot;+&quot;</td><td>17</td><td>&quot;12.50&quot;</td><td>7</td><td>1</td><td>0</td><td>9</td><td>0</td></tr><tr><td>&quot;haplotype1-000…</td><td>130642064</td><td>130642065</td><td>&quot;5mC&quot;</td><td>1000</td><td>&quot;+&quot;</td><td>17</td><td>&quot;100.00&quot;</td><td>0</td><td>17</td><td>0</td><td>0</td><td>0</td></tr><tr><td>&quot;haplotype1-000…</td><td>130642209</td><td>130642210</td><td>&quot;5mC&quot;</td><td>705</td><td>&quot;+&quot;</td><td>17</td><td>&quot;41.67&quot;</td><td>7</td><td>5</td><td>4</td><td>1</td><td>0</td></tr><tr><td>&quot;haplotype1-000…</td><td>130642842</td><td>130642843</td><td>&quot;5mC&quot;</td><td>1000</td><td>&quot;+&quot;</td><td>17</td><td>&quot;100.00&quot;</td><td>0</td><td>17</td><td>0</td><td>0</td><td>0</td></tr><tr><td>&hellip;</td><td>&hellip;</td><td>&hellip;</td><td>&hellip;</td><td>&hellip;</td><td>&hellip;</td><td>&hellip;</td><td>&hellip;</td><td>&hellip;</td><td>&hellip;</td><td>&hellip;</td><td>&hellip;</td><td>&hellip;</td></tr><tr><td>&quot;haplotype2-000…</td><td>49770961</td><td>49770962</td><td>&quot;5mC&quot;</td><td>578</td><td>&quot;+&quot;</td><td>19</td><td>&quot;9.09&quot;</td><td>10</td><td>1</td><td>2</td><td>5</td><td>0</td></tr><tr><td>&quot;haplotype2-000…</td><td>49771079</td><td>49771080</td><td>&quot;5mC&quot;</td><td>473</td><td>&quot;+&quot;</td><td>19</td><td>&quot;55.56&quot;</td><td>4</td><td>5</td><td>0</td><td>9</td><td>0</td></tr><tr><td>&quot;haplotype2-000…</td><td>49772122</td><td>49772123</td><td>&quot;5mC&quot;</td><td>631</td><td>&quot;+&quot;</td><td>19</td><td>&quot;100.00&quot;</td><td>0</td><td>12</td><td>0</td><td>5</td><td>0</td></tr><tr><td>&quot;haplotype2-000…</td><td>49772342</td><td>49772343</td><td>&quot;5mC&quot;</td><td>578</td><td>&quot;+&quot;</td><td>19</td><td>&quot;90.91&quot;</td><td>1</td><td>10</td><td>0</td><td>7</td><td>0</td></tr><tr><td>&quot;haplotype2-000…</td><td>49772412</td><td>49772413</td><td>&quot;5mC&quot;</td><td>421</td><td>&quot;+&quot;</td><td>19</td><td>&quot;87.50&quot;</td><td>1</td><td>7</td><td>1</td><td>7</td><td>0</td></tr></tbody></table></div>"
      ],
      "text/plain": [
       "shape: (1_261_001, 13)\n",
       "┌────────────────────┬───────────┬───────────┬─────┬───┬───────┬────────┬──────────┬──────────┐\n",
       "│ chr                ┆ st        ┆ end       ┆ mod ┆ … ┆ n_mod ┆ n_filt ┆ n_nocall ┆ n_altmod │\n",
       "│ ---                ┆ ---       ┆ ---       ┆ --- ┆   ┆ ---   ┆ ---    ┆ ---      ┆ ---      │\n",
       "│ str                ┆ i64       ┆ i64       ┆ str ┆   ┆ i64   ┆ i64    ┆ i64      ┆ i64      │\n",
       "╞════════════════════╪═══════════╪═══════════╪═════╪═══╪═══════╪════════╪══════════╪══════════╡\n",
       "│ haplotype1-0000003 ┆ 130641453 ┆ 130641454 ┆ 5mC ┆ … ┆ 16    ┆ 1      ┆ 0        ┆ 0        │\n",
       "│ haplotype1-0000003 ┆ 130641764 ┆ 130641765 ┆ 5mC ┆ … ┆ 1     ┆ 0      ┆ 9        ┆ 0        │\n",
       "│ haplotype1-0000003 ┆ 130642064 ┆ 130642065 ┆ 5mC ┆ … ┆ 17    ┆ 0      ┆ 0        ┆ 0        │\n",
       "│ haplotype1-0000003 ┆ 130642209 ┆ 130642210 ┆ 5mC ┆ … ┆ 5     ┆ 4      ┆ 1        ┆ 0        │\n",
       "│ haplotype1-0000003 ┆ 130642842 ┆ 130642843 ┆ 5mC ┆ … ┆ 17    ┆ 0      ┆ 0        ┆ 0        │\n",
       "│ …                  ┆ …         ┆ …         ┆ …   ┆ … ┆ …     ┆ …      ┆ …        ┆ …        │\n",
       "│ haplotype2-0000067 ┆ 49770961  ┆ 49770962  ┆ 5mC ┆ … ┆ 1     ┆ 2      ┆ 5        ┆ 0        │\n",
       "│ haplotype2-0000067 ┆ 49771079  ┆ 49771080  ┆ 5mC ┆ … ┆ 5     ┆ 0      ┆ 9        ┆ 0        │\n",
       "│ haplotype2-0000067 ┆ 49772122  ┆ 49772123  ┆ 5mC ┆ … ┆ 12    ┆ 0      ┆ 5        ┆ 0        │\n",
       "│ haplotype2-0000067 ┆ 49772342  ┆ 49772343  ┆ 5mC ┆ … ┆ 10    ┆ 0      ┆ 7        ┆ 0        │\n",
       "│ haplotype2-0000067 ┆ 49772412  ┆ 49772413  ┆ 5mC ┆ … ┆ 7     ┆ 1      ┆ 7        ┆ 0        │\n",
       "└────────────────────┴───────────┴───────────┴─────┴───┴───────┴────────┴──────────┴──────────┘"
      ]
     },
     "execution_count": 17,
     "metadata": {},
     "output_type": "execute_result"
    }
   ],
   "source": [
    "df"
   ]
  },
  {
   "cell_type": "code",
   "execution_count": 24,
   "metadata": {},
   "outputs": [
    {
     "data": {
      "text/html": [
       "<div><style>\n",
       ".dataframe > thead > tr,\n",
       ".dataframe > tbody > tr {\n",
       "  text-align: right;\n",
       "  white-space: pre-wrap;\n",
       "}\n",
       "</style>\n",
       "<small>shape: (11_663, 5)</small><table border=\"1\" class=\"dataframe\"><thead><tr><th>chr</th><th>st</th><th>end</th><th>avg</th><th>idx</th></tr><tr><td>str</td><td>i64</td><td>i64</td><td>f64</td><td>i64</td></tr></thead><tbody><tr><td>&quot;haplotype1-000…</td><td>615000</td><td>620000</td><td>40.32</td><td>123</td></tr><tr><td>&quot;haplotype1-000…</td><td>620000</td><td>625000</td><td>37.49</td><td>124</td></tr><tr><td>&quot;haplotype1-000…</td><td>625000</td><td>630000</td><td>36.82</td><td>125</td></tr><tr><td>&quot;haplotype1-000…</td><td>630000</td><td>635000</td><td>36.85</td><td>126</td></tr><tr><td>&quot;haplotype1-000…</td><td>635000</td><td>640000</td><td>37.68</td><td>127</td></tr><tr><td>&hellip;</td><td>&hellip;</td><td>&hellip;</td><td>&hellip;</td><td>&hellip;</td></tr><tr><td>&quot;haplotype2-000…</td><td>4690000</td><td>4695000</td><td>36.35</td><td>19288</td></tr><tr><td>&quot;haplotype2-000…</td><td>4695000</td><td>4700000</td><td>33.48</td><td>19289</td></tr><tr><td>&quot;haplotype2-000…</td><td>4700000</td><td>4705000</td><td>33.77</td><td>19290</td></tr><tr><td>&quot;haplotype2-000…</td><td>4705000</td><td>4710000</td><td>28.82</td><td>19291</td></tr><tr><td>&quot;haplotype2-000…</td><td>4710000</td><td>4715000</td><td>27.3</td><td>19292</td></tr></tbody></table></div>"
      ],
      "text/plain": [
       "shape: (11_663, 5)\n",
       "┌────────────────────┬─────────┬─────────┬───────┬───────┐\n",
       "│ chr                ┆ st      ┆ end     ┆ avg   ┆ idx   │\n",
       "│ ---                ┆ ---     ┆ ---     ┆ ---   ┆ ---   │\n",
       "│ str                ┆ i64     ┆ i64     ┆ f64   ┆ i64   │\n",
       "╞════════════════════╪═════════╪═════════╪═══════╪═══════╡\n",
       "│ haplotype1-0000003 ┆ 615000  ┆ 620000  ┆ 40.32 ┆ 123   │\n",
       "│ haplotype1-0000003 ┆ 620000  ┆ 625000  ┆ 37.49 ┆ 124   │\n",
       "│ haplotype1-0000003 ┆ 625000  ┆ 630000  ┆ 36.82 ┆ 125   │\n",
       "│ haplotype1-0000003 ┆ 630000  ┆ 635000  ┆ 36.85 ┆ 126   │\n",
       "│ haplotype1-0000003 ┆ 635000  ┆ 640000  ┆ 37.68 ┆ 127   │\n",
       "│ …                  ┆ …       ┆ …       ┆ …     ┆ …     │\n",
       "│ haplotype2-0000067 ┆ 4690000 ┆ 4695000 ┆ 36.35 ┆ 19288 │\n",
       "│ haplotype2-0000067 ┆ 4695000 ┆ 4700000 ┆ 33.48 ┆ 19289 │\n",
       "│ haplotype2-0000067 ┆ 4700000 ┆ 4705000 ┆ 33.77 ┆ 19290 │\n",
       "│ haplotype2-0000067 ┆ 4705000 ┆ 4710000 ┆ 28.82 ┆ 19291 │\n",
       "│ haplotype2-0000067 ┆ 4710000 ┆ 4715000 ┆ 27.3  ┆ 19292 │\n",
       "└────────────────────┴─────────┴─────────┴───────┴───────┘"
      ]
     },
     "execution_count": 24,
     "metadata": {},
     "output_type": "execute_result"
    }
   ],
   "source": [
    "df = pl.read_csv(\"../../test/cdr/input/HG00731_intersect.bed\", separator=\"\\t\", has_header=False, new_columns=[\"chr\", \"st\", \"end\", \"avg\", \"idx\"])\n",
    "df"
   ]
  },
  {
   "cell_type": "code",
   "execution_count": 25,
   "metadata": {},
   "outputs": [],
   "source": [
    "for chr, df_chr_methyl in df.group_by([\"chr\"]):\n",
    "    chr = chr[0]\n",
    "    methyl_signal = df_chr_methyl[\"avg\"]\n",
    "    smoothed_methyl_signal = signal.savgol_filter(methyl_signal, 5, 4)\n",
    "    # smoothed_methyl_signal = signal.medfilt(methyl_signal, 5)\n",
    "    valley_prom = smoothed_methyl_signal.mean() * 0.33\n",
    "    peaks, peak_info = signal.find_peaks(\n",
    "        -smoothed_methyl_signal,\n",
    "        width=1,\n",
    "        prominence=valley_prom\n",
    "    )\n",
    "    plt.plot(methyl_signal)\n",
    "    ax = plt.gca()\n",
    "    for l, r in zip(peak_info[\"left_ips\"], peak_info[\"right_ips\"]):\n",
    "        ax.axvspan(l, r, color=\"red\", alpha=0.5)\n",
    "    plt.savefig(f\"{chr}.png\")\n",
    "    plt.close()"
   ]
  }
 ],
 "metadata": {
  "kernelspec": {
   "display_name": "jupyter",
   "language": "python",
   "name": "python3"
  },
  "language_info": {
   "codemirror_mode": {
    "name": "ipython",
    "version": 3
   },
   "file_extension": ".py",
   "mimetype": "text/x-python",
   "name": "python",
   "nbconvert_exporter": "python",
   "pygments_lexer": "ipython3",
   "version": "3.12.2"
  }
 },
 "nbformat": 4,
 "nbformat_minor": 2
}
